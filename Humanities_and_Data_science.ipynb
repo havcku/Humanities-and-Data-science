{
  "nbformat": 4,
  "nbformat_minor": 0,
  "metadata": {
    "colab": {
      "provenance": [],
      "authorship_tag": "ABX9TyOV3vaYf3rs2s16jR3RUSgv",
      "include_colab_link": true
    },
    "kernelspec": {
      "name": "python3",
      "display_name": "Python 3"
    },
    "language_info": {
      "name": "python"
    }
  },
  "cells": [
    {
      "cell_type": "markdown",
      "metadata": {
        "id": "view-in-github",
        "colab_type": "text"
      },
      "source": [
        "<a href=\"https://colab.research.google.com/github/havcku/Humanities-and-Data-science/blob/main/Humanities_and_Data_science.ipynb\" target=\"_parent\"><img src=\"https://colab.research.google.com/assets/colab-badge.svg\" alt=\"Open In Colab\"/></a>"
      ]
    },
    {
      "cell_type": "markdown",
      "source": [
        "##Humanities and Data science\n",
        "\n",
        "####기업의 의사결정 도구, 데이터 사이언스\n",
        "인공지능은 더 이상 미래의 트랜드가 아닙니다. 기업의 현실 과제입니다.   \n",
        "머신러닝을 기반으로 새로운 결과를 도출하고, 기업 문화와 의사결정 구조, 일하는 방식 등 조직의 모든 것들이 바뀌게 될 것입니다.  \n",
        "인공지능은 인간의 두뇌의 한계를 뛰어넘기 위한 도구로서, 인공지능을 사용한다는 것은 대량의 데이터를 얼마나 효율적으로 의사결정에 활용하는가, 그 분석을 통해서 새로운 인사이트를 발굴 해 내는가, 그리고 예측 확률값처럼 전에 없던 가치의 데이터를 만들어 내는 비즈니스적 의미를 갖고 있습니다.      \n",
        "\n",
        "####머신러닝의 작동 방식  \n",
        "지도학습 : 정답지로 학습, 예측 모델 등에 사용 ,비지도학습의 강화학습, 결정트리(decision tree), 클러스터링, 인공신경망  \n",
        "비지도학습 : 정답 없이 학습, 군집화(clustering) 등에 사용, 고객 세그맨테이션(고객 분류) 의사결정.   \n",
        "강화학습 : 시뮬레이션 반복 학습, 성능 강화 등에 사용  \n",
        "\n",
        "딥러닝은 인공신경망을 심화한 알고리즘이다. 중간층이 3개가 넘는 것을 딥러닝 이라고 한다. 딥러닝을 활용하기 위해서는 개괄적인 개념보다 하위종목을 이해하는 것이 유용하다.  \n",
        "DNN : 딥러닝 기본개념. 신경망의 중간층을 깊게 쌓은 것으로 \"딥 뉴럴 네트워크(Deep Neural Network,DNN) 딥러닝의 가장 기본적인 형태로 혼자 접할 수 있는 테이블 형식의 데이터를 잘 처리한다. 엑셀의 테이블 처럼 생긴 데이터, 원화는 결과가 명확하다면, DNN을 활용한다.  \n",
        "\n",
        "CNN : 시각적 이미지를 주로 처리하는 알고리즘(Convolutional Neuaral NetWork). \n",
        "\n",
        "RUN : 인공지능이 사람 말을 알아듣기도 하고 번역을 하거나 상황에 맞는 분량을 만들어 내기도 한다.\n",
        "\n",
        "####[용어 정리]\n",
        "경영학  \n",
        "전략(경영정보시스템) 조직 생산 마케팅 재무 회계    \n",
        "  \n",
        "머신러닝(기계학습)  \n",
        "컴퓨터가 데이터를 통해 스스로 학습하는 기술, 인공지능에서 가장 중요한 분야이며, 최근 매우 빠른 속도로 발전하고 있다. \n",
        "\n",
        "자연어 처리  \n",
        "컴퓨터가 인간의 언어를 처리하는 기술\n",
        "검색엔진, 번역, SNS텍스트 분석, 음성언어 처리\n",
        "\n",
        "컴퓨터 감각  \n",
        "컴퓨터가 인간의 감각을 처리하는 기술\n",
        "머신러닝을 사용해서 크게 발전하는 것은 이미지 인식 기술이다.\n",
        "사람의 목소리를 처리하는 음성인식\n",
        "\n",
        "자동추출  \n",
        "컴퓨터가 데이터를 기반으로 질문에 답하고 새로운 결론을 도출\n",
        "\n",
        "지식표현  \n",
        "컴퓨터가 저장된 데이터를 인간이 이해할 수 있는 지식의 형태로 나타내는 기술\n",
        "\n",
        "인지컴퓨팅  \n",
        "패턴인식,\n",
        "로봇공학,\n",
        "지능엔진\n",
        "\n",
        "\n"
      ],
      "metadata": {
        "id": "YOM8JBGW5NPk"
      }
    }
  ]
}